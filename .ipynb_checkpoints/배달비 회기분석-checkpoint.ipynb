{
 "cells": [
  {
   "cell_type": "markdown",
   "metadata": {},
   "source": [
    "# 지점 배달비 예측 회귀분석"
   ]
  },
  {
   "cell_type": "code",
   "execution_count": 1,
   "metadata": {},
   "outputs": [],
   "source": [
    "# 향후 버전 업에 대한 경고 메시지 출력 안하기 \n",
    "import warnings\n",
    "\n",
    "warnings.filterwarnings(action='ignore') "
   ]
  },
  {
   "cell_type": "markdown",
   "metadata": {},
   "source": [
    "## 1) 데이터 수집"
   ]
  },
  {
   "cell_type": "code",
   "execution_count": 2,
   "metadata": {},
   "outputs": [],
   "source": [
    "import numpy as np\n",
    "import pandas as pd \n",
    "\n",
    "#data_df = pd.read_csv('./10장_data/auto-mpg.csv', header=0, engine='python')\n",
    "data_df = pd.read_csv('YogiyoTip.csv',encoding = 'cp949', header=0, engine='python')"
   ]
  },
  {
   "cell_type": "markdown",
   "metadata": {},
   "source": [
    "## 2) 데이터 준비 및 탐색"
   ]
  },
  {
   "cell_type": "code",
   "execution_count": 3,
   "metadata": {},
   "outputs": [
    {
     "name": "stdout",
     "output_type": "stream",
     "text": [
      " 데이터셋 크기 :  (986, 7)\n"
     ]
    },
    {
     "data": {
      "text/html": [
       "<div>\n",
       "<style scoped>\n",
       "    .dataframe tbody tr th:only-of-type {\n",
       "        vertical-align: middle;\n",
       "    }\n",
       "\n",
       "    .dataframe tbody tr th {\n",
       "        vertical-align: top;\n",
       "    }\n",
       "\n",
       "    .dataframe thead th {\n",
       "        text-align: right;\n",
       "    }\n",
       "</style>\n",
       "<table border=\"1\" class=\"dataframe\">\n",
       "  <thead>\n",
       "    <tr style=\"text-align: right;\">\n",
       "      <th></th>\n",
       "      <th>가게명</th>\n",
       "      <th>판매업종</th>\n",
       "      <th>배달소요시간</th>\n",
       "      <th>평점</th>\n",
       "      <th>리뷰수</th>\n",
       "      <th>배달기준금액</th>\n",
       "      <th>배달비</th>\n",
       "    </tr>\n",
       "  </thead>\n",
       "  <tbody>\n",
       "    <tr>\n",
       "      <th>0</th>\n",
       "      <td>BHC-미아점</td>\n",
       "      <td>5</td>\n",
       "      <td>60</td>\n",
       "      <td>4.9</td>\n",
       "      <td>11109</td>\n",
       "      <td>16000</td>\n",
       "      <td>3000</td>\n",
       "    </tr>\n",
       "    <tr>\n",
       "      <th>1</th>\n",
       "      <td>호식이두마리치킨-길음점</td>\n",
       "      <td>5</td>\n",
       "      <td>50</td>\n",
       "      <td>4.9</td>\n",
       "      <td>3999</td>\n",
       "      <td>14000</td>\n",
       "      <td>3000</td>\n",
       "    </tr>\n",
       "    <tr>\n",
       "      <th>2</th>\n",
       "      <td>굽네치킨&amp;피자-미아1호점</td>\n",
       "      <td>5</td>\n",
       "      <td>60</td>\n",
       "      <td>4.6</td>\n",
       "      <td>1135</td>\n",
       "      <td>15000</td>\n",
       "      <td>3000</td>\n",
       "    </tr>\n",
       "    <tr>\n",
       "      <th>3</th>\n",
       "      <td>네네치킨-정릉점</td>\n",
       "      <td>5</td>\n",
       "      <td>49</td>\n",
       "      <td>4.6</td>\n",
       "      <td>1622</td>\n",
       "      <td>16000</td>\n",
       "      <td>3000</td>\n",
       "    </tr>\n",
       "    <tr>\n",
       "      <th>4</th>\n",
       "      <td>짱닭치킨-성신여대점</td>\n",
       "      <td>5</td>\n",
       "      <td>58</td>\n",
       "      <td>4.9</td>\n",
       "      <td>421</td>\n",
       "      <td>14000</td>\n",
       "      <td>2000</td>\n",
       "    </tr>\n",
       "  </tbody>\n",
       "</table>\n",
       "</div>"
      ],
      "text/plain": [
       "             가게명  판매업종  배달소요시간   평점    리뷰수  배달기준금액   배달비\n",
       "0        BHC-미아점     5      60  4.9  11109   16000  3000\n",
       "1   호식이두마리치킨-길음점     5      50  4.9   3999   14000  3000\n",
       "2  굽네치킨&피자-미아1호점     5      60  4.6   1135   15000  3000\n",
       "3       네네치킨-정릉점     5      49  4.6   1622   16000  3000\n",
       "4     짱닭치킨-성신여대점     5      58  4.9    421   14000  2000"
      ]
     },
     "execution_count": 3,
     "metadata": {},
     "output_type": "execute_result"
    }
   ],
   "source": [
    "print(' 데이터셋 크기 : ', data_df.shape)\n",
    "\n",
    "data_df.head()"
   ]
  },
  {
   "cell_type": "markdown",
   "metadata": {},
   "source": [
    "#### - 분석하지 않을 변수 제외하기"
   ]
  },
  {
   "cell_type": "code",
   "execution_count": 4,
   "metadata": {},
   "outputs": [],
   "source": [
    "data_df = data_df.drop(['가게명'], axis=1, inplace=False)"
   ]
  },
  {
   "cell_type": "code",
   "execution_count": 5,
   "metadata": {},
   "outputs": [
    {
     "name": "stdout",
     "output_type": "stream",
     "text": [
      " 데이터세트 크기 :  (986, 6)\n"
     ]
    },
    {
     "data": {
      "text/html": [
       "<div>\n",
       "<style scoped>\n",
       "    .dataframe tbody tr th:only-of-type {\n",
       "        vertical-align: middle;\n",
       "    }\n",
       "\n",
       "    .dataframe tbody tr th {\n",
       "        vertical-align: top;\n",
       "    }\n",
       "\n",
       "    .dataframe thead th {\n",
       "        text-align: right;\n",
       "    }\n",
       "</style>\n",
       "<table border=\"1\" class=\"dataframe\">\n",
       "  <thead>\n",
       "    <tr style=\"text-align: right;\">\n",
       "      <th></th>\n",
       "      <th>판매업종</th>\n",
       "      <th>배달소요시간</th>\n",
       "      <th>평점</th>\n",
       "      <th>리뷰수</th>\n",
       "      <th>배달기준금액</th>\n",
       "      <th>배달비</th>\n",
       "    </tr>\n",
       "  </thead>\n",
       "  <tbody>\n",
       "    <tr>\n",
       "      <th>0</th>\n",
       "      <td>5</td>\n",
       "      <td>60</td>\n",
       "      <td>4.9</td>\n",
       "      <td>11109</td>\n",
       "      <td>16000</td>\n",
       "      <td>3000</td>\n",
       "    </tr>\n",
       "    <tr>\n",
       "      <th>1</th>\n",
       "      <td>5</td>\n",
       "      <td>50</td>\n",
       "      <td>4.9</td>\n",
       "      <td>3999</td>\n",
       "      <td>14000</td>\n",
       "      <td>3000</td>\n",
       "    </tr>\n",
       "    <tr>\n",
       "      <th>2</th>\n",
       "      <td>5</td>\n",
       "      <td>60</td>\n",
       "      <td>4.6</td>\n",
       "      <td>1135</td>\n",
       "      <td>15000</td>\n",
       "      <td>3000</td>\n",
       "    </tr>\n",
       "    <tr>\n",
       "      <th>3</th>\n",
       "      <td>5</td>\n",
       "      <td>49</td>\n",
       "      <td>4.6</td>\n",
       "      <td>1622</td>\n",
       "      <td>16000</td>\n",
       "      <td>3000</td>\n",
       "    </tr>\n",
       "    <tr>\n",
       "      <th>4</th>\n",
       "      <td>5</td>\n",
       "      <td>58</td>\n",
       "      <td>4.9</td>\n",
       "      <td>421</td>\n",
       "      <td>14000</td>\n",
       "      <td>2000</td>\n",
       "    </tr>\n",
       "  </tbody>\n",
       "</table>\n",
       "</div>"
      ],
      "text/plain": [
       "   판매업종  배달소요시간   평점    리뷰수  배달기준금액   배달비\n",
       "0     5      60  4.9  11109   16000  3000\n",
       "1     5      50  4.9   3999   14000  3000\n",
       "2     5      60  4.6   1135   15000  3000\n",
       "3     5      49  4.6   1622   16000  3000\n",
       "4     5      58  4.9    421   14000  2000"
      ]
     },
     "execution_count": 5,
     "metadata": {},
     "output_type": "execute_result"
    }
   ],
   "source": [
    "print(' 데이터세트 크기 : ', data_df.shape)\n",
    "\n",
    "data_df.head()"
   ]
  },
  {
   "cell_type": "code",
   "execution_count": 6,
   "metadata": {},
   "outputs": [
    {
     "name": "stdout",
     "output_type": "stream",
     "text": [
      "<class 'pandas.core.frame.DataFrame'>\n",
      "RangeIndex: 986 entries, 0 to 985\n",
      "Data columns (total 6 columns):\n",
      " #   Column  Non-Null Count  Dtype  \n",
      "---  ------  --------------  -----  \n",
      " 0   판매업종    986 non-null    int64  \n",
      " 1   배달소요시간  986 non-null    int64  \n",
      " 2   평점      986 non-null    float64\n",
      " 3   리뷰수     986 non-null    int64  \n",
      " 4   배달기준금액  986 non-null    int64  \n",
      " 5   배달비     986 non-null    int64  \n",
      "dtypes: float64(1), int64(5)\n",
      "memory usage: 46.3 KB\n"
     ]
    }
   ],
   "source": [
    "data_df.info()"
   ]
  },
  {
   "cell_type": "markdown",
   "metadata": {},
   "source": [
    "## 3) 분석 모델 구축"
   ]
  },
  {
   "cell_type": "code",
   "execution_count": 7,
   "metadata": {},
   "outputs": [],
   "source": [
    "from sklearn.linear_model import LinearRegression\n",
    "from sklearn.model_selection import train_test_split\n",
    "from sklearn.metrics import mean_squared_error, r2_score"
   ]
  },
  {
   "cell_type": "code",
   "execution_count": 8,
   "metadata": {},
   "outputs": [],
   "source": [
    "# X, Y 분할하기\n",
    "\n",
    "Y = data_df['배달비']\n",
    "X = data_df.drop(['배달비'], axis=1, inplace=False)"
   ]
  },
  {
   "cell_type": "code",
   "execution_count": 9,
   "metadata": {},
   "outputs": [],
   "source": [
    "# 훈련용 데이터와 평가용 데이터 분할하기\n",
    "X_train, X_test, Y_train, Y_test = train_test_split(X, Y, test_size=0.3, random_state=0)"
   ]
  },
  {
   "cell_type": "code",
   "execution_count": 10,
   "metadata": {},
   "outputs": [],
   "source": [
    "# 선형회귀분석 : 모델 생성\n",
    "lr = LinearRegression()"
   ]
  },
  {
   "cell_type": "code",
   "execution_count": 11,
   "metadata": {},
   "outputs": [
    {
     "data": {
      "text/plain": [
       "LinearRegression()"
      ]
     },
     "execution_count": 11,
     "metadata": {},
     "output_type": "execute_result"
    }
   ],
   "source": [
    "# 선형회귀분석 : 모델 훈련\n",
    "lr.fit(X_train, Y_train)"
   ]
  },
  {
   "cell_type": "code",
   "execution_count": 12,
   "metadata": {},
   "outputs": [],
   "source": [
    "# 선형회귀분석 : 평가 데이터에 대한 예측 수행 -> 예측 결과 Y_predict 구하기\n",
    "Y_predict = lr.predict(X_test)"
   ]
  },
  {
   "cell_type": "markdown",
   "metadata": {},
   "source": [
    "## 4) 결과 분석 및 시각화"
   ]
  },
  {
   "cell_type": "code",
   "execution_count": 13,
   "metadata": {},
   "outputs": [
    {
     "name": "stdout",
     "output_type": "stream",
     "text": [
      "MSE : 1256630.521, RMSE : 1120.995\n",
      "R^2(Variance score) : 0.005\n"
     ]
    }
   ],
   "source": [
    "mse = mean_squared_error(Y_test, Y_predict)\n",
    "rmse = np.sqrt(mse)\n",
    "\n",
    "print('MSE : {0:.3f}, RMSE : {1:.3f}'.format(mse, rmse))\n",
    "print('R^2(Variance score) : {0:.3f}'.format(r2_score(Y_test, Y_predict)))"
   ]
  },
  {
   "cell_type": "code",
   "execution_count": 14,
   "metadata": {},
   "outputs": [
    {
     "name": "stdout",
     "output_type": "stream",
     "text": [
      "Y 절편 값:  3787.92\n",
      "회귀 계수 값:  [ 7.7700e+00  5.8900e+00 -1.1091e+02 -1.1000e-01 -1.0000e-02]\n"
     ]
    }
   ],
   "source": [
    "print('Y 절편 값: ',  np.round(lr.intercept_, 2))\n",
    "print('회귀 계수 값: ', np.round(lr.coef_, 2))"
   ]
  },
  {
   "cell_type": "code",
   "execution_count": 15,
   "metadata": {},
   "outputs": [
    {
     "data": {
      "text/plain": [
       "판매업종        7.77\n",
       "배달소요시간      5.89\n",
       "배달기준금액     -0.01\n",
       "리뷰수        -0.11\n",
       "평점       -110.91\n",
       "dtype: float64"
      ]
     },
     "execution_count": 15,
     "metadata": {},
     "output_type": "execute_result"
    }
   ],
   "source": [
    "coef = pd.Series(data=np.round(lr.coef_, 2), index=X.columns)\n",
    "coef.sort_values(ascending=False)"
   ]
  },
  {
   "cell_type": "markdown",
   "metadata": {},
   "source": [
    "### - 회귀 분석 결과를 산점도 + 선형 회귀 그래프로 시각화하기"
   ]
  },
  {
   "cell_type": "code",
   "execution_count": 16,
   "metadata": {},
   "outputs": [],
   "source": [
    "import matplotlib.pyplot as plt\n",
    "import matplotlib\n",
    "import seaborn as sns\n",
    "\n",
    "matplotlib.rcParams['font.family'] = 'Malgun Gothic'\n",
    "matplotlib.rcParams['axes.unicode_minus'] = False"
   ]
  },
  {
   "cell_type": "code",
   "execution_count": 17,
   "metadata": {
    "scrolled": false
   },
   "outputs": [
    {
     "data": {
      "image/png": "[encoded data removed]",
      "text/plain": [
       "<Figure size 1152x1152 with 6 Axes>"
      ]
     },
     "metadata": {
      "needs_background": "light"
     },
     "output_type": "display_data"
    }
   ],
   "source": [
    "fig, axs = plt.subplots(figsize=(16, 16), ncols=3, nrows=2)\n",
    "\n",
    "x_features = ['판매업종', '배달소요시간', '배달기준금액', '리뷰수', '평점']\n",
    "plot_color = ['r', 'b', 'y', 'g', 'c']\n",
    "\n",
    "for i, feature in enumerate(x_features):\n",
    "    row = int(i/3)\n",
    "    col = i%3\n",
    "    sns.regplot(x=feature, y='배달비', data=data_df, ax=axs[row][col], color=plot_color[i])"
   ]
  },
  {
   "cell_type": "markdown",
   "metadata": {},
   "source": [
    "###   <<<< 배달비 예측하기  >>>>"
   ]
  },
  {
   "cell_type": "code",
   "execution_count": 21,
   "metadata": {},
   "outputs": [
    {
     "name": "stdout",
     "output_type": "stream",
     "text": [
      "배달비를 예측하고 싶은 지점의 정보를 입력해주세요.\n",
      "판매업종 : 5\n",
      "배달소요시간 : 60\n",
      "평점 : 3.8\n",
      "리뷰수 : 10\n",
      "배달기준금액 : 20000\n"
     ]
    }
   ],
   "source": [
    "print(\"배달비를 예측하고 싶은 지점의 정보를 입력해주세요.\")\n",
    "\n",
    "category = int(input(\"판매업종 : \"))\n",
    "delivery_time = int(input(\"배달소요시간 : \"))\n",
    "grade = float(input(\"평점 : \"))\n",
    "review = int(input(\"리뷰수 : \"))\n",
    "deliverybasecost = int(input(\"배달기준금액 : \"))"
   ]
  },
  {
   "cell_type": "code",
   "execution_count": 22,
   "metadata": {},
   "outputs": [],
   "source": [
    "cost_predict = lr.predict([[category, delivery_time, grade, review, deliverybasecost]])"
   ]
  },
  {
   "cell_type": "code",
   "execution_count": 23,
   "metadata": {},
   "outputs": [
    {
     "name": "stdout",
     "output_type": "stream",
     "text": [
      "이 지점의 예상 배달비는 3467.10 입니다.\n"
     ]
    }
   ],
   "source": [
    "print(\"이 지점의 예상 배달비는 %.2f 입니다.\" % cost_predict)"
   ]
  },
  {
   "cell_type": "code",
   "execution_count": null,
   "metadata": {},
   "outputs": [],
   "source": []
  }
 ],
 "metadata": {
  "kernelspec": {
   "display_name": "Python 3 (ipykernel)",
   "language": "python",
   "name": "python3"
  },
  "language_info": {
   "codemirror_mode": {
    "name": "ipython",
    "version": 3
   },
   "file_extension": ".py",
   "mimetype": "text/x-python",
   "name": "python",
   "nbconvert_exporter": "python",
   "pygments_lexer": "ipython3",
   "version": "3.9.7"
  }
 },
 "nbformat": 4,
 "nbformat_minor": 2
}
